{
 "cells": [
  {
   "cell_type": "markdown",
   "metadata": {},
   "source": [
    "##### 분석 목표 : 타이타닉 호에 탑승한 승객들의 생존여부 예측\n",
    "###### 생존에 영향을 끼친 주요 요인은 무엇인가?"
   ]
  },
  {
   "cell_type": "markdown",
   "metadata": {},
   "source": [
    "###### PassengerId: 승객 ID (각 승객을 고유하게 식별하는 번호)\n",
    "###### Survived: 생존 여부 (0: 사망, 1: 생존)\n",
    "###### Pclass: 객실 등급 (1: 1등석, 2: 2등석, 3: 3등석)\n",
    "###### Name: 이름\n",
    "###### Sex: 성별\n",
    "###### Age: 나이\n",
    "###### SibSp: 함께 탑승한 형제자매 및 배우자 수\n",
    "###### Parch: 함께 탑승한 부모 및 자녀 수\n",
    "###### Ticket: 티켓 번호\n",
    "###### Fare: 요금\n",
    "###### Cabin: 객실 번호\n",
    "###### Embarked: 탑승 항구 (C: 셰르부르, Q: 퀸스타운, S: 사우샘프턴)"
   ]
  },
  {
   "cell_type": "code",
   "execution_count": 1,
   "metadata": {},
   "outputs": [],
   "source": [
    "import pandas as pd\n",
    "\n",
    "train_data = pd.read_csv('./datasets/titanic/train.csv')\n",
    "\n",
    "test_data = pd.read_csv('./datasets/titanic/test.csv')"
   ]
  },
  {
   "cell_type": "code",
   "execution_count": null,
   "metadata": {},
   "outputs": [],
   "source": [
    "train_data.info()"
   ]
  },
  {
   "cell_type": "code",
   "execution_count": null,
   "metadata": {},
   "outputs": [],
   "source": [
    "# 숫자형 데이터에 대한 기초 통계 정보\n",
    "# describe : 설명하다\n",
    "train_data.describe()"
   ]
  },
  {
   "cell_type": "code",
   "execution_count": null,
   "metadata": {},
   "outputs": [],
   "source": [
    "train_data.isnull()"
   ]
  },
  {
   "cell_type": "code",
   "execution_count": null,
   "metadata": {},
   "outputs": [],
   "source": [
    "train_data.isnull().sum()"
   ]
  },
  {
   "cell_type": "code",
   "execution_count": null,
   "metadata": {},
   "outputs": [],
   "source": [
    "import matplotlib.pyplot as plt\n",
    "import seaborn as sns\n",
    "\n",
    "# multiple을 이용해 age, survived 항목을 하나로 보여줌\n",
    "sns.histplot(data=train_data, x='Age', hue='Survived', multiple='stack')\n",
    "plt.title('age by survival')\n",
    "plt.show()"
   ]
  },
  {
   "cell_type": "code",
   "execution_count": 7,
   "metadata": {},
   "outputs": [],
   "source": [
    "# train_data['Sex'] = train_data['Sex'].map({'male' : 0 , 'female' : 1})\n",
    "\n",
    "# train_data['Sex'].head()"
   ]
  },
  {
   "cell_type": "code",
   "execution_count": 8,
   "metadata": {},
   "outputs": [],
   "source": [
    "# train_data.info()"
   ]
  },
  {
   "cell_type": "code",
   "execution_count": 9,
   "metadata": {},
   "outputs": [],
   "source": [
    "# train_data['Embarked'] = train_data['Embarked'].map({'C' : 1 , 'S' : 2, 'Q' : 3})\n",
    "\n",
    "# train_data = pd.get_dummies(train_data, columns=['Embarked'])"
   ]
  },
  {
   "cell_type": "code",
   "execution_count": 10,
   "metadata": {},
   "outputs": [],
   "source": [
    "# train_data.info()"
   ]
  },
  {
   "cell_type": "code",
   "execution_count": 11,
   "metadata": {},
   "outputs": [],
   "source": [
    "# train_data.head(3)"
   ]
  },
  {
   "cell_type": "code",
   "execution_count": 12,
   "metadata": {},
   "outputs": [],
   "source": [
    "# 상관계수\n",
    "# correlation = train_data.drop(['Name', 'Ticket', 'Cabin'], axis=1).corr()\n",
    "\n",
    "# print(correlation['Survived'])"
   ]
  },
  {
   "cell_type": "code",
   "execution_count": 13,
   "metadata": {},
   "outputs": [],
   "source": [
    "# 범주형 변수를 숫자로 변환 (예: 성별을 0, 1로 변환)\n",
    "train_data['Sex'] = train_data['Sex'].map({'male': 0, 'female': 1})\n",
    "\n",
    "# Embarked 변수는 범주형이므로 원-핫 인코딩 (C, Q, S 각각의 열로 변환)\n",
    "train_data = pd.get_dummies(train_data, columns=['Embarked'], drop_first=True)"
   ]
  },
  {
   "cell_type": "code",
   "execution_count": null,
   "metadata": {},
   "outputs": [],
   "source": [
    "# 필요한 라이브러리 임포트\n",
    "import pandas as pd\n",
    "import sklearn.ensemble\n",
    "import sklearn.model_selection\n",
    "import matplotlib.pyplot as plt\n",
    "import seaborn as sns\n",
    "\n",
    "# 특징(feature)와 타겟(target) 변수 설정\n",
    "# 타겟: 'Survived' (생존 여부)\n",
    "# 특징: 'Survived', 'Name', 'Ticket', 'Cabin', 'PassengerId' 등 중요하지 않은 변수 제외\n",
    "X = train_data.drop(['PassengerId', 'Survived', 'Name', 'Ticket', 'Cabin'], axis=1)\n",
    "y = train_data['Survived']\n",
    "\n",
    "# 학습용 데이터와 테스트용 데이터를 80:20으로 분리\n",
    "X_train, X_test, y_train, y_test = sklearn.model_selection.train_test_split(X, y, test_size=0.2, random_state=42)\n",
    "\n",
    "# 랜덤 포레스트 모델 생성 및 학습\n",
    "model = sklearn.ensemble.RandomForestClassifier(random_state=42)\n",
    "model.fit(X_train, y_train)\n",
    "\n",
    "# 변수 중요도 추출\n",
    "importances = model.feature_importances_\n",
    "feature_names = X.columns\n",
    "\n",
    "# 변수 중요도를 데이터프레임으로 정렬\n",
    "importance_df = pd.DataFrame({'Feature': feature_names, 'Importance': importances})\n",
    "\n",
    "importance_df = importance_df.sort_values(by='Importance', ascending=False)\n",
    "\n",
    "# 변수 중요도 출력\n",
    "print(importance_df)\n",
    "\n",
    "# 변수 중요도 시각화\n",
    "plt.figure(figsize=(10, 6))\n",
    "sns.barplot(x='Importance', y='Feature', data=importance_df)\n",
    "plt.title('Feature Importance using Random Forest')\n",
    "plt.show()"
   ]
  },
  {
   "cell_type": "code",
   "execution_count": null,
   "metadata": {},
   "outputs": [],
   "source": [
    "import sklearn.metrics\n",
    "\n",
    "# 테스트 데이터로 생존 여부 예측\n",
    "y_pred = model.predict(X_test)\n",
    "\n",
    "# 정확도 평가\n",
    "accuracy = sklearn.metrics.accuracy_score(y_test, y_pred)\n",
    "print(f'Accuracy: {accuracy:.4f}')"
   ]
  },
  {
   "cell_type": "code",
   "execution_count": null,
   "metadata": {},
   "outputs": [],
   "source": []
  }
 ],
 "metadata": {
  "kernelspec": {
   "display_name": "kaggle",
   "language": "python",
   "name": "python3"
  },
  "language_info": {
   "codemirror_mode": {
    "name": "ipython",
    "version": 3
   },
   "file_extension": ".py",
   "mimetype": "text/x-python",
   "name": "python",
   "nbconvert_exporter": "python",
   "pygments_lexer": "ipython3",
   "version": "3.12.5"
  }
 },
 "nbformat": 4,
 "nbformat_minor": 2
}
